{
 "cells": [
  {
   "cell_type": "raw",
   "metadata": {},
   "source": [
    "# 10.24\n",
    "Leetcode Top100 1,2,3,4 (need to review better answers)\n",
    "Udemy Chapter 11 algo analysis and big O (need to finish quiz)\n",
    "Kaggle basic data cleaning"
   ]
  },
  {
   "cell_type": "markdown",
   "metadata": {},
   "source": [
    "### Summary"
   ]
  },
  {
   "cell_type": "markdown",
   "metadata": {},
   "source": [
    "### Two Sum"
   ]
  },
  {
   "cell_type": "code",
   "execution_count": 80,
   "metadata": {},
   "outputs": [],
   "source": [
    "# don't pay much\n",
    "class Solution:\n",
    "    def twoSum(self, nums, target):\n",
    "        \"\"\"\n",
    "        :type nums: List[int]\n",
    "        :type target: int\n",
    "        :rtype: List[int]\n",
    "        \"\"\"\n",
    "        for i, item in enumerate(nums):\n",
    "            try: return(i, nums[i+1:].index(target - item) + i + 1)\n",
    "            except: continue"
   ]
  },
  {
   "cell_type": "markdown",
   "metadata": {},
   "source": [
    "### Add Two Numbers"
   ]
  },
  {
   "cell_type": "code",
   "execution_count": 8,
   "metadata": {},
   "outputs": [],
   "source": [
    "class ListNode(object):\n",
    "    def __init__(self):\n",
    "        self.val = None\n",
    "        self.next = None\n",
    "class ListNode_handle:\n",
    "    def __init__(self):\n",
    "        self.cur_node = None\n",
    "        \n",
    "    def add(self, data):\n",
    "        # add a new node pointed to previous node\n",
    "        node = ListNode()\n",
    "        node.val = data\n",
    "        node.next = self.cur_node\n",
    "        self.cur_node = node\n",
    "        return node\n",
    "        \n",
    "    def print_ListNode(self, node):\n",
    "        while node:\n",
    "            print('\\nnode: ', node, ' value: ', node.val, ' next: ', node.next)\n",
    "            node = node.next\n",
    "            \n",
    "    def _reverse(self, nodelist):\n",
    "        qlist = []\n",
    "        while nodelist:\n",
    "            qlist.append(nodelist.val)\n",
    "            nodelist = nodelist.next\n",
    "        result = ListNode()\n",
    "        result_handle = ListNode_handle()\n",
    "        for i in list:\n",
    "            result = result_handle.add(i)\n",
    "        return result"
   ]
  },
  {
   "cell_type": "code",
   "execution_count": 9,
   "metadata": {},
   "outputs": [],
   "source": [
    "ListNode_1 = ListNode_handle()\n",
    "l1 = ListNode()\n",
    "l1_list = [1,8,3]\n",
    "for i in l1_list:\n",
    "    l1 = ListNode_1.add(i)"
   ]
  },
  {
   "cell_type": "markdown",
   "metadata": {},
   "source": [
    "### 2 add two numbers"
   ]
  },
  {
   "cell_type": "code",
   "execution_count": 62,
   "metadata": {},
   "outputs": [],
   "source": [
    "class Solution:\n",
    "    def addTwoNumbers(self, l1, l2):\n",
    "        \"\"\"\n",
    "        :type l1: ListNode\n",
    "        :type l2: ListNode\n",
    "        :rtype: ListNode\n",
    "        \"\"\"\n",
    "        if len(l1) < len(l2):\n",
    "            l1 = l1 + (len(l2) - len(l1))*[0] \n",
    "        else:\n",
    "            l2 = l2 + (len(l1) - len(l2))*[0]\n",
    "        res = []\n",
    "        comp = 0\n",
    "        for i, j in zip(l1, l2):\n",
    "            print(i + j + comp)\n",
    "            if i + j + comp < 10:\n",
    "                res.append(i + j + comp)\n",
    "            else:\n",
    "                res.append(int(str(i + j + comp)[1]))\n",
    "                comp = int(str(i + j)[0])\n",
    "        return res"
   ]
  },
  {
   "cell_type": "code",
   "execution_count": 63,
   "metadata": {},
   "outputs": [
    {
     "name": "stdout",
     "output_type": "stream",
     "text": [
      "3\n",
      "14\n",
      "14\n",
      "5\n"
     ]
    },
    {
     "data": {
      "text/plain": [
       "[3, 4, 4, 5]"
      ]
     },
     "execution_count": 63,
     "metadata": {},
     "output_type": "execute_result"
    }
   ],
   "source": [
    "Test = Solution()\n",
    "Test.addTwoNumbers(l1 = [1,8,9,4], l2 = [2,6,4])"
   ]
  },
  {
   "cell_type": "markdown",
   "metadata": {},
   "source": [
    "### 3"
   ]
  },
  {
   "cell_type": "code",
   "execution_count": 75,
   "metadata": {},
   "outputs": [],
   "source": [
    "class Solution:\n",
    "    def lengthOfLongestSubstring(self, s):\n",
    "        \"\"\"\n",
    "        :type s: str\n",
    "        :rtype: int\n",
    "        \"\"\"\n",
    "        count_list = []\n",
    "        count = 0\n",
    "        for i in range(len(s)):\n",
    "            if len(s) - i < count:\n",
    "                return count\n",
    "            else:\n",
    "                count = 0\n",
    "            for j in range(i, len(s)):\n",
    "                print(len(s[i:j+1]), len(set(s[i:j+1])))\n",
    "                if len(s[i:j+1]) == len(set(s[i:j+1])):\n",
    "                    count += 1\n",
    "                else:\n",
    "                    break\n",
    "            count_list.append(count)\n",
    "            count = max(count_list)\n",
    "        return(count)"
   ]
  },
  {
   "cell_type": "code",
   "execution_count": 76,
   "metadata": {},
   "outputs": [
    {
     "name": "stdout",
     "output_type": "stream",
     "text": [
      "1 1\n"
     ]
    },
    {
     "data": {
      "text/plain": [
       "1"
      ]
     },
     "execution_count": 76,
     "metadata": {},
     "output_type": "execute_result"
    }
   ],
   "source": [
    "Test = Solution()\n",
    "Test.lengthOfLongestSubstring(' ')"
   ]
  }
 ],
 "metadata": {
  "kernelspec": {
   "display_name": "Python 3",
   "language": "python",
   "name": "python3"
  },
  "language_info": {
   "codemirror_mode": {
    "name": "ipython",
    "version": 3
   },
   "file_extension": ".py",
   "mimetype": "text/x-python",
   "name": "python",
   "nbconvert_exporter": "python",
   "pygments_lexer": "ipython3",
   "version": "3.6.5"
  }
 },
 "nbformat": 4,
 "nbformat_minor": 2
}
