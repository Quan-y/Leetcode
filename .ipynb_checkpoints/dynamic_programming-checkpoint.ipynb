{
 "cells": [
  {
   "cell_type": "markdown",
   "metadata": {},
   "source": [
    "### Dynamic programming\n",
    "1. No recursion in algorithm\n",
    "2. Memoization: remeber the result we calculate before"
   ]
  },
  {
   "cell_type": "markdown",
   "metadata": {},
   "source": [
    "1. 最长递增子序列\n",
    "2. 股票最大收益\n",
    "3. 任务安排问题\n",
    "4. 操作最少次数\n",
    "5. 格子取数/走棋盘问题及应用\n",
    "6. 带陷阱的走棋盘\n",
    "7. 两次走棋盘问题\n",
    "8. 字符串的交替连接\n",
    "9. 词典划分/分割词汇问题"
   ]
  },
  {
   "cell_type": "markdown",
   "metadata": {},
   "source": [
    "### 1. Fibonacci numbers"
   ]
  },
  {
   "cell_type": "code",
   "execution_count": 8,
   "metadata": {},
   "outputs": [],
   "source": [
    "# 0, 1, 2, 3, 5, 8, 13, 21, 34\n",
    "def fb_algo1(n):\n",
    "    if n < 2: return n\n",
    "    else: return fb_algo1(n - 1) + fb_algo1(n -2)"
   ]
  },
  {
   "cell_type": "code",
   "execution_count": 9,
   "metadata": {
    "scrolled": true
   },
   "outputs": [
    {
     "data": {
      "text/plain": [
       "[0, 1, 1, 2, 3, 5, 8, 13, 21, 34]"
      ]
     },
     "execution_count": 9,
     "metadata": {},
     "output_type": "execute_result"
    }
   ],
   "source": [
    "list(map(fb_algo1, range(10)))"
   ]
  },
  {
   "cell_type": "code",
   "execution_count": 14,
   "metadata": {},
   "outputs": [],
   "source": [
    "# DP algo\n",
    "def fb_algo2(n):\n",
    "    fb = [0]*n\n",
    "    fb[0] = 0\n",
    "    fb[1] = 1\n",
    "    for i in range(2, n):\n",
    "        fb[i] = fb[i-1] + fb[i-2]\n",
    "    return fb"
   ]
  },
  {
   "cell_type": "code",
   "execution_count": 15,
   "metadata": {
    "scrolled": true
   },
   "outputs": [
    {
     "data": {
      "text/plain": [
       "[0, 1, 1, 2, 3, 5, 8, 13, 21, 34]"
      ]
     },
     "execution_count": 15,
     "metadata": {},
     "output_type": "execute_result"
    }
   ],
   "source": [
    "fb_algo2(10)"
   ]
  },
  {
   "cell_type": "markdown",
   "metadata": {},
   "source": [
    "给定长度为N的数组A，计算A的最长单调递增子序列（不一定连续）和其长度"
   ]
  },
  {
   "cell_type": "markdown",
   "metadata": {},
   "source": [
    "### 2. Longest Increasing Subsequences (LIS)"
   ]
  },
  {
   "cell_type": "code",
   "execution_count": null,
   "metadata": {},
   "outputs": [],
   "source": [
    "# sub problem\n",
    "\n",
    "\n",
    "# state recursion relation\n",
    "\n"
   ]
  },
  {
   "cell_type": "code",
   "execution_count": 27,
   "metadata": {},
   "outputs": [],
   "source": [
    "def lis(list_):\n",
    "    lis_list = [1]*len(list_)\n",
    "    for i in range(len(list_)):\n",
    "        for j in range(i):\n",
    "            if list_[i] > list_[j]:\n",
    "                lis_list[i] = lis_list[i] + 1\n",
    "    return lis_list"
   ]
  },
  {
   "cell_type": "code",
   "execution_count": 28,
   "metadata": {},
   "outputs": [
    {
     "data": {
      "text/plain": [
       "[1, 2, 3, 2, 5, 6, 5]"
      ]
     },
     "execution_count": 28,
     "metadata": {},
     "output_type": "execute_result"
    }
   ],
   "source": [
    "lis(a)"
   ]
  },
  {
   "cell_type": "code",
   "execution_count": 26,
   "metadata": {},
   "outputs": [],
   "source": [
    "a = [1, 4, 6, 2, 8, 9, 7]\n",
    "# lis we want to calculate\n",
    "# lis = [1, 2, 3, 2, 4, 5, 4]"
   ]
  }
 ],
 "metadata": {
  "kernelspec": {
   "display_name": "Python 3",
   "language": "python",
   "name": "python3"
  },
  "language_info": {
   "codemirror_mode": {
    "name": "ipython",
    "version": 3
   },
   "file_extension": ".py",
   "mimetype": "text/x-python",
   "name": "python",
   "nbconvert_exporter": "python",
   "pygments_lexer": "ipython3",
   "version": "3.6.5"
  }
 },
 "nbformat": 4,
 "nbformat_minor": 2
}
